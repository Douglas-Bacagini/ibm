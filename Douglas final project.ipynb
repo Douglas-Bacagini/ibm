{
    "cells": [
        {
            "metadata": {
                "collapsed": true
            },
            "cell_type": "markdown",
            "source": "# My Jupyter Notebook on IBM Watson Studio # "
        },
        {
            "metadata": {},
            "cell_type": "markdown",
            "source": "**Douglas**\nMechanical Engineer"
        },
        {
            "metadata": {},
            "cell_type": "markdown",
            "source": "*I'm interested in data science because it's a profession that has a lot to do with engineering and contributing to humanity.*"
        },
        {
            "metadata": {},
            "cell_type": "markdown",
            "source": "### I will make a simple addition account 2+2 ###"
        },
        {
            "metadata": {},
            "cell_type": "code",
            "source": "2+2",
            "execution_count": 4,
            "outputs": [
                {
                    "output_type": "execute_result",
                    "execution_count": 4,
                    "data": {
                        "text/plain": "4"
                    },
                    "metadata": {}
                }
            ]
        }
    ],
    "metadata": {
        "kernelspec": {
            "name": "python3",
            "display_name": "Python 3.9",
            "language": "python"
        },
        "language_info": {
            "name": "python",
            "version": "3.9.12",
            "mimetype": "text/x-python",
            "codemirror_mode": {
                "name": "ipython",
                "version": 3
            },
            "pygments_lexer": "ipython3",
            "nbconvert_exporter": "python",
            "file_extension": ".py"
        }
    },
    "nbformat": 4,
    "nbformat_minor": 1
}